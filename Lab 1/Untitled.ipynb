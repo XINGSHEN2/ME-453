{
 "cells": [
  {
   "cell_type": "code",
   "execution_count": 1,
   "id": "038f43a0-76bb-40d0-9946-b949ddcf54c4",
   "metadata": {
    "tags": []
   },
   "outputs": [
    {
     "name": "stdout",
     "output_type": "stream",
     "text": [
      "50\n",
      "60\n",
      "70\n",
      "80\n"
     ]
    }
   ],
   "source": [
    "for length in [50, 60, 70, 80]:\n",
    "    print(length)"
   ]
  },
  {
   "cell_type": "code",
   "execution_count": null,
   "id": "c8f2f124-979b-43ac-b3df-eff680c0b167",
   "metadata": {},
   "outputs": [],
   "source": []
  }
 ],
 "metadata": {
  "kernelspec": {
   "display_name": "Python 3 (ipykernel)",
   "language": "python",
   "name": "python3"
  },
  "language_info": {
   "codemirror_mode": {
    "name": "ipython",
    "version": 3
   },
   "file_extension": ".py",
   "mimetype": "text/x-python",
   "name": "python",
   "nbconvert_exporter": "python",
   "pygments_lexer": "ipython3",
   "version": "3.9.6"
  }
 },
 "nbformat": 4,
 "nbformat_minor": 5
}
