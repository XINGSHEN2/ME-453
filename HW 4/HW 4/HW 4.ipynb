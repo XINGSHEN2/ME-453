{
 "cells": [
  {
   "cell_type": "code",
   "execution_count": 1,
   "id": "5b652641-602c-439a-9825-cc542a8e2cd8",
   "metadata": {
    "tags": []
   },
   "outputs": [],
   "source": [
    "import numpy as np\n",
    "import matplotlib.pyplot as plt\n",
    "import pandas as pd\n",
    "from scipy.stats import binom\n",
    "from scipy.stats import poisson"
   ]
  },
  {
   "cell_type": "code",
   "execution_count": 3,
   "id": "56196359-9efe-44cc-a450-3d5dc72310af",
   "metadata": {
    "tags": []
   },
   "outputs": [
    {
     "name": "stdout",
     "output_type": "stream",
     "text": [
      "6.739989965642845e-05\n"
     ]
    }
   ],
   "source": [
    "# 1.2 \n",
    "n = 400\n",
    "UCL = 0.0962\n",
    "p = 0.005\n",
    "LCL = 0.0038\n",
    "DL = int(LCL * n)\n",
    "DU = int(UCL * n)\n",
    "alpha = binom.cdf(DL, n, 0.05) + 1 - binom.cdf(DU, n, 0.05)\n",
    "print(alpha)"
   ]
  },
  {
   "cell_type": "code",
   "execution_count": 4,
   "id": "138da242-4cb1-4c91-b988-2166d710dd1d",
   "metadata": {
    "tags": []
   },
   "outputs": [
    {
     "name": "stdout",
     "output_type": "stream",
     "text": [
      "0.000760552879309778\n"
     ]
    }
   ],
   "source": [
    "# 1.3\n",
    "beta = binom.cdf(DU, n, 0.15) - binom.cdf(DL, n, 0.15)\n",
    "print(beta)"
   ]
  },
  {
   "cell_type": "code",
   "execution_count": 6,
   "id": "e0205580-0f13-4fbb-b275-893e98e87fcc",
   "metadata": {
    "tags": []
   },
   "outputs": [
    {
     "name": "stdout",
     "output_type": "stream",
     "text": [
      "230\n"
     ]
    }
   ],
   "source": [
    "# 2.1\n",
    "p = 0.01\n",
    "n = 0\n",
    "while (1-p)**n > 0.1:\n",
    "    n+=1\n",
    "print(n)"
   ]
  },
  {
   "cell_type": "code",
   "execution_count": 7,
   "id": "7ca0573b-8c4e-4504-8468-dee06f35cef8",
   "metadata": {
    "tags": []
   },
   "outputs": [
    {
     "name": "stdout",
     "output_type": "stream",
     "text": [
      "0.09910481551887496\n"
     ]
    }
   ],
   "source": [
    "#2.3\n",
    "n = 230\n",
    "UCL = 6.827\n",
    "p = 0.01\n",
    "alpha = binom.cdf(0, 230, 0.01) + 1 - binom.cdf(230 * 6.827, 230, 0.01)\n",
    "print(alpha)"
   ]
  },
  {
   "cell_type": "code",
   "execution_count": null,
   "id": "70a677c1-dd78-47eb-9abc-08869246f59e",
   "metadata": {},
   "outputs": [],
   "source": []
  }
 ],
 "metadata": {
  "kernelspec": {
   "display_name": "Python 3 (ipykernel)",
   "language": "python",
   "name": "python3"
  },
  "language_info": {
   "codemirror_mode": {
    "name": "ipython",
    "version": 3
   },
   "file_extension": ".py",
   "mimetype": "text/x-python",
   "name": "python",
   "nbconvert_exporter": "python",
   "pygments_lexer": "ipython3",
   "version": "3.9.6"
  }
 },
 "nbformat": 4,
 "nbformat_minor": 5
}
