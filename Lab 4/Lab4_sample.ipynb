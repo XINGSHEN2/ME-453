{
 "cells": [
  {
   "cell_type": "code",
   "execution_count": null,
   "metadata": {},
   "outputs": [],
   "source": [
    "# Import package\n",
    "import numpy as np\n",
    "import matplotlib.pyplot as plt\n",
    "import pandas as pd\n",
    "\n",
    "# Plot parameter setting \n",
    "plt.style.use('default')\n",
    "plt.rcParams['axes.titlesize'] = 18\n",
    "plt.rcParams['axes.labelsize'] = 16\n",
    "plt.rcParams['legend.fontsize'] = \"large\"\n",
    "plt.rcParams['font.family'] = 'Arial'\n",
    "plt.rcParams['mathtext.fontset'] = 'stix'\n",
    "plt.rcParams['figure.figsize'] = 8, 6\n",
    "plt.rcParams['figure.dpi'] = 100"
   ]
  },
  {
   "cell_type": "code",
   "execution_count": null,
   "metadata": {},
   "outputs": [],
   "source": [
    "# Load data\n",
    "training = pd.read_csv(\"./feature_training.csv\", header=0, index_col=0)\n",
    "training.reset_index(inplace=True, drop=True)\n",
    "testing = pd.read_csv(\"./feature_testing.csv\", header=0, index_col=0)\n",
    "testing.reset_index(inplace=True, drop=True)\n"
   ]
  },
  {
   "cell_type": "markdown",
   "metadata": {},
   "source": [
    "$$ \\text{Fisher's ratio} = \\frac{(\\mu_1 - \\mu_2)^2}{\\sigma_1^2 + \\sigma_2^2} $$"
   ]
  },
  {
   "cell_type": "code",
   "execution_count": null,
   "metadata": {},
   "outputs": [],
   "source": [
    "# Fisher Ratio\n",
    "Feature = pd.concat([testing, training]) # Combine two dataset for Fisher's ratio\n",
    "Feature.loc[\"Fisher 1\"] = \"\" # New \"row\" to store Fisher's ratio\n",
    "Feature.loc[\"Fisher 2\"] = \"\"\n",
    "\n",
    "# Seperate data to three class\n",
    "Fclean = Feature[Feature.Surface == \"Clean\"]\n",
    "Fl1 = Feature[Feature.Surface == \"L1\"]\n",
    "Fl2 = Feature[Feature.Surface == \"L2\"]\n",
    "\n",
    "# Go through each features to calculate Fisher's ratio\n",
    "for feature in Feature.columns[2:]:\n",
    "\n",
    "    # Your code for calculating mean and std each class\n",
    "\n",
    "    Feature.loc[\"Fisher 1\", feature] = # Your code for Fisher's ratio\n",
    "    Feature.loc[\"Fisher 2\", feature] = # Your code for Fisher's ratio\n",
    "\n",
    "\n",
    "Feature.loc[\"Fisher mix\"] = Feature.loc[\"Fisher 1\"] + Feature.loc[\"Fisher 2\"] # New \"row\" for sum of Fisher 1 and Fisher 2\n",
    "Feature\n"
   ]
  },
  {
   "cell_type": "code",
   "execution_count": null,
   "metadata": {},
   "outputs": [],
   "source": [
    "# Fisher plot\n",
    "barwidth = 0.4\n",
    "x1 = np.arange(0, 10)\n",
    "x2 = [x + barwidth for x in x1]\n",
    "plt.bar(x1, Feature.loc[\"Fisher 1\"][2:], width=barwidth, label=\"Fisher 1\")\n",
    "plt.bar(x2, Feature.loc[\"Fisher 2\"][2:], width=barwidth, label=\"Fisher 2\")\n",
    "plt.xticks(x1)\n",
    "\n",
    "# Your code to add legend, label and anyother useful information"
   ]
  },
  {
   "cell_type": "code",
   "execution_count": null,
   "metadata": {},
   "outputs": [],
   "source": [
    "# LDA & QDA\n",
    "from sklearn.discriminant_analysis import LinearDiscriminantAnalysis\n",
    "from sklearn.discriminant_analysis import QuadraticDiscriminantAnalysis\n",
    "from sklearn.metrics import accuracy_score\n",
    "from sklearn.metrics import confusion_matrix, ConfusionMatrixDisplay\n",
    " \n",
    "selected = [\"11\", \"12\"] # Include your selected features\n",
    "\n",
    "x_train = training[selected]\n",
    "y_train = training[\"Surface\"]\n",
    "x_test = testing[selected]\n",
    "y_test = testing[\"Surface\"]\n",
    "\n",
    "LDA = LinearDiscriminantAnalysis()\n",
    "QDA = QuadraticDiscriminantAnalysis()\n",
    "LDA.fit(x_train, y_train)\n",
    "QDA.fit(x_train, y_train)\n",
    "cm = confusion_matrix(QDA.predict(x_test), y_test) # Change for different classifier\n",
    "class_label = [\"Clean\", \"L1\", \"L2\"]\n",
    "ConfusionMatrixDisplay(cm, display_labels=class_label).plot()"
   ]
  },
  {
   "cell_type": "code",
   "execution_count": null,
   "metadata": {},
   "outputs": [],
   "source": [
    "# Go through all combination\n",
    "from itertools import  combinations\n",
    "selected = [\"11\", \"12\"] # Include your selected features\n",
    "\n",
    "# Build a dataframe to store m, feature index, LDA_error, QDA_error\n",
    "CombinList = pd.DataFrame(columns=[\"m\", \"feature\", \"LDA\", \"QDA\"])\n",
    "\n",
    "for n in range(2, 6):\n",
    "    combine = list(combinations(selected, n)) # Get all combination (including \"n\" elements from \"selected\")\n",
    "    for c in combine:\n",
    "        c = list(c)\n",
    "        x_train = training[c]\n",
    "        y_train = training[\"Surface\"]\n",
    "        x_test = testing[c]\n",
    "        y_test = testing[\"Surface\"]\n",
    "        \n",
    "        # LDA\n",
    "        lda = LinearDiscriminantAnalysis()\n",
    "        lda.fit(x_train, y_train)\n",
    "        lda_e = 1-accuracy_score(lda.predict(x_test), y_test) # Get the misclassification rate\n",
    "\n",
    "        # Your code for QDA\n",
    "        qda_e = 0 # Change zero to your code for missclassification rate\n",
    "\n",
    "        CombinList.loc[len(CombinList)] = [len(c), c, lda_e, qda_e]\n",
    "\n",
    "CombinList"
   ]
  },
  {
   "cell_type": "code",
   "execution_count": null,
   "metadata": {},
   "outputs": [],
   "source": [
    "# m-plot\n",
    "for m in range(2, 6):\n",
    "    # count repeated rate\n",
    "    count = CombinList.loc[CombinList.m==m, \"LDA\"].value_counts()\n",
    "    \n",
    "    # adjust the scatter size base on repeated value\n",
    "    for c in count.index:\n",
    "        plt.scatter(m, c, s=200+(count[c]-1)*800, c=\"blue\", alpha=0.2)\n",
    "    \n",
    "    # Average\n",
    "    error_mean = CombinList.loc[CombinList.m==m, \"LDA\"].mean()\n",
    "    plt.scatter(m, error_mean, color=\"green\", marker=\"x\")\n",
    "\n",
    "# Create legend manually\n",
    "legend_elements = [\n",
    "    plt.Line2D([0], [0],  color=\"white\", marker=\"o\",  markerfacecolor=\"blue\", alpha=0.2,  markersize=10, label=\"error\"),\n",
    "    plt.Line2D([0], [0],  color=\"white\", marker=\"x\",  markeredgecolor=\"green\", markersize=5, label=\"mean\")\n",
    "]\n",
    "\n",
    "plt.grid()\n",
    "plt.legend(handles=legend_elements)\n",
    "plt.title(\"LDA - Testing Data\")\n",
    "plt.xlabel(\"m\")\n",
    "plt.ylabel(\"Misclassification rate\")"
   ]
  },
  {
   "cell_type": "code",
   "execution_count": null,
   "metadata": {},
   "outputs": [],
   "source": []
  }
 ],
 "metadata": {
  "interpreter": {
   "hash": "d1e52cd9a3aac81b2b9d8df74aa7921b5ec573fa434f8a5c55b4d9f8f8ca0a71"
  },
  "kernelspec": {
   "display_name": "Python 3 (ipykernel)",
   "language": "python",
   "name": "python3"
  },
  "language_info": {
   "codemirror_mode": {
    "name": "ipython",
    "version": 3
   },
   "file_extension": ".py",
   "mimetype": "text/x-python",
   "name": "python",
   "nbconvert_exporter": "python",
   "pygments_lexer": "ipython3",
   "version": "3.9.6"
  }
 },
 "nbformat": 4,
 "nbformat_minor": 4
}
