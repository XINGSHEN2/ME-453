{
 "cells": [
  {
   "cell_type": "code",
   "execution_count": 1,
   "id": "bef41d54-d736-4f51-8af4-c2e37eaf4c09",
   "metadata": {
    "tags": []
   },
   "outputs": [],
   "source": [
    "# Package import\n",
    "import numpy as np\n",
    "import matplotlib.pyplot as plt\n",
    "import scipy.stats as st"
   ]
  },
  {
   "cell_type": "code",
   "execution_count": 2,
   "id": "dfa16f44-67ba-4005-8bc1-0c86d9d0e71a",
   "metadata": {
    "tags": []
   },
   "outputs": [
    {
     "name": "stdout",
     "output_type": "stream",
     "text": [
      "0.001349898031630093\n"
     ]
    }
   ],
   "source": [
    "Z_alpha2= 3\n",
    "beta = st.norm.cdf(Z_alpha2 - 6) - st.norm.cdf(-Z_alpha2 - 6)\n",
    "print(beta)"
   ]
  },
  {
   "cell_type": "code",
   "execution_count": null,
   "id": "6e0affc0-5a2a-4d14-9f03-ae22f8eb9eaf",
   "metadata": {},
   "outputs": [],
   "source": []
  }
 ],
 "metadata": {
  "kernelspec": {
   "display_name": "Python 3 (ipykernel)",
   "language": "python",
   "name": "python3"
  },
  "language_info": {
   "codemirror_mode": {
    "name": "ipython",
    "version": 3
   },
   "file_extension": ".py",
   "mimetype": "text/x-python",
   "name": "python",
   "nbconvert_exporter": "python",
   "pygments_lexer": "ipython3",
   "version": "3.9.6"
  }
 },
 "nbformat": 4,
 "nbformat_minor": 5
}
