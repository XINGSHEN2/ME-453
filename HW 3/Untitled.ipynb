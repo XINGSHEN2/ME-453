{
 "cells": [
  {
   "cell_type": "code",
   "execution_count": 19,
   "id": "1b4ea4f1-6d75-4f10-945a-1b3645441495",
   "metadata": {
    "tags": []
   },
   "outputs": [
    {
     "name": "stdout",
     "output_type": "stream",
     "text": [
      "0.9986501019683699\n",
      "0.15865525393017726\n",
      "3.2905267314919255\n"
     ]
    }
   ],
   "source": [
    "import numpy as np\n",
    "import matplotlib.pyplot as plt\n",
    "import pandas as pd\n",
    "import scipy.stats as st\n",
    "\n",
    "alpha = st.norm.cdf(3)\n",
    "\n",
    "Z = st.norm.ppf(0.9995)\n",
    "beta = st.norm.cdf(-1) - st.norm.cdf(-7)\n",
    "print(alpha)\n",
    "print(beta)\n",
    "print(Z)"
   ]
  },
  {
   "cell_type": "code",
   "execution_count": null,
   "id": "3d6f6485-6398-4aa3-a9f0-c7051683b854",
   "metadata": {},
   "outputs": [],
   "source": []
  },
  {
   "cell_type": "code",
   "execution_count": null,
   "id": "2ed3b329-cb78-4918-9176-992cfba23cc4",
   "metadata": {},
   "outputs": [],
   "source": []
  }
 ],
 "metadata": {
  "kernelspec": {
   "display_name": "Python 3 (ipykernel)",
   "language": "python",
   "name": "python3"
  },
  "language_info": {
   "codemirror_mode": {
    "name": "ipython",
    "version": 3
   },
   "file_extension": ".py",
   "mimetype": "text/x-python",
   "name": "python",
   "nbconvert_exporter": "python",
   "pygments_lexer": "ipython3",
   "version": "3.9.6"
  }
 },
 "nbformat": 4,
 "nbformat_minor": 5
}
