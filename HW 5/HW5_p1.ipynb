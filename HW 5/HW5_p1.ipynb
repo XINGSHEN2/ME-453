{
 "cells": [
  {
   "cell_type": "code",
   "execution_count": 1,
   "id": "69a35fa2-c28f-416c-8780-8107dbdcba02",
   "metadata": {
    "tags": []
   },
   "outputs": [
    {
     "name": "stdout",
     "output_type": "stream",
     "text": [
      "Projection Matrix W:\n",
      "[[ 0.88697868  0.46181038]\n",
      " [-0.46181038  0.88697868]]\n"
     ]
    }
   ],
   "source": [
    "import numpy as np\n",
    "\n",
    "# Given estimated covariance matrix\n",
    "cov_matrix = np.array([[16, 5], [5, 9]])\n",
    "\n",
    "# Calculate eigenvalues and eigenvectors\n",
    "eigenvalues, eigenvectors = np.linalg.eig(cov_matrix)\n",
    "\n",
    "# Sort eigenvalues and corresponding eigenvectors\n",
    "sorted_indices = np.argsort(eigenvalues)[::-1]\n",
    "eigenvalues = eigenvalues[sorted_indices]\n",
    "eigenvectors = eigenvectors[:, sorted_indices]\n",
    "\n",
    "# Create the projection matrix W by stacking eigenvectors horizontally\n",
    "W = np.hstack((eigenvectors[:, 0], eigenvectors[:, 1]))\n",
    "\n",
    "# Reshape the matrix to be 2x2\n",
    "W = W.reshape(2, 2)\n",
    "\n",
    "print(\"Projection Matrix W:\")\n",
    "print(W)"
   ]
  },
  {
   "cell_type": "code",
   "execution_count": 6,
   "id": "0bf29174-dac8-4f01-a174-1ec234cfd140",
   "metadata": {
    "tags": []
   },
   "outputs": [
    {
     "name": "stdout",
     "output_type": "stream",
     "text": [
      "\n",
      "Projected Observation in the New Space:\n",
      "[[6.2821349]\n",
      " [1.2388628]]\n"
     ]
    }
   ],
   "source": [
    "# Given observation x\n",
    "x = np.array([5, 4]).reshape(-1, 1)\n",
    "\n",
    "# Project x to the new space\n",
    "x_mapped = np.dot(W, x)\n",
    "\n",
    "print(\"\\nProjected Observation in the New Space:\")\n",
    "print(x_mapped)"
   ]
  },
  {
   "cell_type": "code",
   "execution_count": 4,
   "id": "b758e3d6-49bf-45ca-ba51-ff04f914f69d",
   "metadata": {
    "tags": []
   },
   "outputs": [
    {
     "name": "stdout",
     "output_type": "stream",
     "text": [
      "Explained Variance Ratio for Each PC:\n",
      "[0.74413111 0.25586889]\n"
     ]
    }
   ],
   "source": [
    "# Calculate the explained variance ratio for each PC\n",
    "explained_variance_ratio = eigenvalues / np.sum(eigenvalues)\n",
    "\n",
    "print(\"Explained Variance Ratio for Each PC:\")\n",
    "print(explained_variance_ratio)\n"
   ]
  },
  {
   "cell_type": "code",
   "execution_count": null,
   "id": "e049d33f-1024-4c73-8219-c2e9c3a6991e",
   "metadata": {},
   "outputs": [],
   "source": [
    "# In this case, the PC1's ratio is 0.74413111, which is more important."
   ]
  }
 ],
 "metadata": {
  "kernelspec": {
   "display_name": "Python 3 (ipykernel)",
   "language": "python",
   "name": "python3"
  },
  "language_info": {
   "codemirror_mode": {
    "name": "ipython",
    "version": 3
   },
   "file_extension": ".py",
   "mimetype": "text/x-python",
   "name": "python",
   "nbconvert_exporter": "python",
   "pygments_lexer": "ipython3",
   "version": "3.9.6"
  }
 },
 "nbformat": 4,
 "nbformat_minor": 5
}
